{
 "cells": [
  {
   "cell_type": "code",
   "execution_count": 2,
   "id": "cb130b79-45f5-4589-9d64-32b803cb1557",
   "metadata": {},
   "outputs": [
    {
     "name": "stdout",
     "output_type": "stream",
     "text": [
      "출력\n"
     ]
    }
   ],
   "source": [
    "print(\"출력\")"
   ]
  },
  {
   "cell_type": "markdown",
   "id": "6ac96e64-f9d0-4950-acf8-baef9bb8d245",
   "metadata": {},
   "source": [
    "#변수란 컴퓨터의 기억장소에 이름을 부여한것을 말한다\n",
    "#컴퓨터의 기억공간에 이름을 부여하고 그공간에 값을 저장하거나 읽어올수\n",
    "#있다 0과 1로 구성되어있다. 1번지에 값 3을 넣고 2번지에 값 4를 넣고\n",
    "#기억공간에 이름을 붙인다.\n",
    "#JAVA 라면 변수를 미리 선언해야 한다. int a;\n",
    "#int 형의 데이터가 저장될 공간을 확보하고 이름을 a라고해라\n",
    "#보통의 인터프리터 언어는 변수를 미리 선언하지 않는다.\n",
    "#필요할때 만들어서 쓰면된다."
   ]
  },
  {
   "cell_type": "code",
   "execution_count": 19,
   "id": "7029eeb6-bea5-4c9b-afef-d2ba240f1c0f",
   "metadata": {},
   "outputs": [
    {
     "name": "stdout",
     "output_type": "stream",
     "text": [
      "10 20 30\n"
     ]
    }
   ],
   "source": [
    "a = 10 #a라는 변수에 값 10을 저장(할당) 하라\n",
    "b = 20 #b라는 변수에 값 20을 저장하라\n",
    "c = a+b # a 의 값 10과 b의 값 20을 읽어와서 더한 뒤에 c에 넣어라\n",
    "        # 좌변에는 변수만, 우변에는 아무거나 올 수 있다.\n",
    "print(a,b,c) #a,b,c 변수의 값을 읽어서 화면에 출력라라"
   ]
  },
  {
   "cell_type": "code",
   "execution_count": null,
   "id": "9c87acf6-53b5-4829-b7ce-62754f01b244",
   "metadata": {},
   "outputs": [
    {
     "name": "stdout",
     "output_type": "stream",
     "text": [
      "a =  1\n",
      "b =  2\n"
     ]
    },
    {
     "name": "stdout",
     "output_type": "stream",
     "text": [
      "1 2 12\n",
      "1 2 3\n"
     ]
    }
   ],
   "source": [
    "#값입력하기 - 입력함수가 동시에 출력도 가능\n",
    "a = input(\"a = \")\n",
    "b = input(\"b = \")\n",
    "c = a+b #모든 입력은 unicode다 그래서 a 도 b도 문자로 인식한다.\n",
    "print(a,b,c) #문자 + 문자 = 문자 덧붙이기\n",
    "d = int(a) + int(b) #int는 문자를 -> 숫자로 바꾼다\n",
    "print(a,b,d)"
   ]
  },
  {
   "cell_type": "code",
   "execution_count": 27,
   "id": "509ff158-e403-472d-90c5-2dc49eaad7bf",
   "metadata": {},
   "outputs": [
    {
     "name": "stdout",
     "output_type": "stream",
     "text": [
      "가로 :  1920\n",
      "세로 :  1080\n"
     ]
    },
    {
     "name": "stdout",
     "output_type": "stream",
     "text": [
      "2073600\n"
     ]
    }
   ],
   "source": [
    "#사각형의 면적 구하기 (가로, 세로 입력 받아서 면적을 구하고자 한다)\n",
    "#입력데이터 : 가로 , 세로\n",
    "#출력데이터 : 면적\n",
    "#입력 -> 계산이나 출력을 생각하지 말자\n",
    "width = input(\"가로 : \")\n",
    "height = input(\"세로 : \")\n",
    "#계산\n",
    "surface = int(width) * int(height)\n",
    "#출력\n",
    "print( surface )\n"
   ]
  },
  {
   "cell_type": "code",
   "execution_count": 43,
   "id": "e6579029-a08e-403c-b692-bb64cc54aca8",
   "metadata": {},
   "outputs": [
    {
     "name": "stdout",
     "output_type": "stream",
     "text": [
      "시급 :  9000\n",
      "노동시간 :  70\n"
     ]
    },
    {
     "name": "stdout",
     "output_type": "stream",
     "text": [
      "시급은 9000 근무시간은 70 주급은 630000\n"
     ]
    }
   ],
   "source": [
    "#주급 계산하기 시간당 급여액하고 근무시간을 입력받아서 주급을 계산하기\n",
    "per_pay = input(\"시급 : \")\n",
    "work_time = input(\"노동시간 : \")\n",
    "pay = int(per_pay) * int(work_time)\n",
    "print(\"시급은\", per_pay,\"근무시간은\",work_time, \"주급은\",pay)\n"
   ]
  },
  {
   "cell_type": "code",
   "execution_count": null,
   "id": "0e4cca67-b787-4566-b252-d1ac309cccc6",
   "metadata": {},
   "outputs": [],
   "source": []
  }
 ],
 "metadata": {
  "kernelspec": {
   "display_name": "Python [conda env:base] *",
   "language": "python",
   "name": "conda-base-py"
  },
  "language_info": {
   "codemirror_mode": {
    "name": "ipython",
    "version": 3
   },
   "file_extension": ".py",
   "mimetype": "text/x-python",
   "name": "python",
   "nbconvert_exporter": "python",
   "pygments_lexer": "ipython3",
   "version": "3.12.7"
  }
 },
 "nbformat": 4,
 "nbformat_minor": 5
}
